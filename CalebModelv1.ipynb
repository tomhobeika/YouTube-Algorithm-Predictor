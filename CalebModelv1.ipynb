{
 "cells": [
  {
   "cell_type": "code",
   "execution_count": 24,
   "metadata": {},
   "outputs": [],
   "source": [
    "from tensorflow import keras\n",
    "import matplotlib.pyplot as plt\n",
    "from sklearn.model_selection import train_test_split\n",
    "import numpy as np\n",
    "from PIL import Image\n",
    "import os\n",
    "import math"
   ]
  },
  {
   "cell_type": "code",
   "execution_count": 25,
   "metadata": {},
   "outputs": [],
   "source": [
    "# Downscale thumbnails to 360p for training\n",
    "img_size = (168, 94)\n",
    "\n",
    "def loadImage(path):\n",
    "\timg = Image.open(path, 'r').convert('RGB').resize(img_size)\n",
    "\t# Convert colors from 0-255 to 0-1\n",
    "\treturn np.asarray(img) / 255"
   ]
  },
  {
   "cell_type": "code",
   "execution_count": 26,
   "metadata": {},
   "outputs": [
    {
     "data": {
      "text/plain": [
       "1918"
      ]
     },
     "execution_count": 26,
     "metadata": {},
     "output_type": "execute_result"
    }
   ],
   "source": [
    "# AI tries to match target values given source values\n",
    "source = []\n",
    "target = []\n",
    "\n",
    "# Import thumbnails from dataset/ folder\n",
    "for img in os.listdir('dataset'):\n",
    "\tsource.append(loadImage(f'dataset/{img}'))\n",
    "\tviews, subs = img[12:-4].split(\"_\")\n",
    "\tviews_mag = len(views) - 1\n",
    "\ttarget.append(views_mag)\n",
    "\t\n",
    "# Convert to numpy arrays\n",
    "source = np.array(source)\n",
    "target = np.array(target)\n",
    "len(source)"
   ]
  },
  {
   "cell_type": "code",
   "execution_count": 28,
   "metadata": {},
   "outputs": [],
   "source": [
    "x_train, x_valid, y_train, y_valid = train_test_split(source, target, test_size=0.1)"
   ]
  },
  {
   "cell_type": "code",
   "execution_count": 48,
   "metadata": {},
   "outputs": [
    {
     "name": "stdout",
     "output_type": "stream",
     "text": [
      "Model: \"sequential_17\"\n",
      "_________________________________________________________________\n",
      " Layer (type)                Output Shape              Param #   \n",
      "=================================================================\n",
      " conv2d_69 (Conv2D)          (None, 94, 168, 32)       2432      \n",
      "                                                                 \n",
      " max_pooling2d_69 (MaxPoolin  (None, 31, 56, 32)       0         \n",
      " g2D)                                                            \n",
      "                                                                 \n",
      " conv2d_70 (Conv2D)          (None, 31, 56, 64)        51264     \n",
      "                                                                 \n",
      " max_pooling2d_70 (MaxPoolin  (None, 15, 28, 64)       0         \n",
      " g2D)                                                            \n",
      "                                                                 \n",
      " conv2d_71 (Conv2D)          (None, 15, 28, 128)       204928    \n",
      "                                                                 \n",
      " max_pooling2d_71 (MaxPoolin  (None, 7, 14, 128)       0         \n",
      " g2D)                                                            \n",
      "                                                                 \n",
      " flatten_23 (Flatten)        (None, 12544)             0         \n",
      "                                                                 \n",
      " dropout_23 (Dropout)        (None, 12544)             0         \n",
      "                                                                 \n",
      " dense_52 (Dense)            (None, 512)               6423040   \n",
      "                                                                 \n",
      " dense_53 (Dense)            (None, 10)                5130      \n",
      "                                                                 \n",
      "=================================================================\n",
      "Total params: 6,686,794\n",
      "Trainable params: 6,686,794\n",
      "Non-trainable params: 0\n",
      "_________________________________________________________________\n"
     ]
    }
   ],
   "source": [
    "model = keras.models.Sequential(\n",
    "\t[\n",
    "\t\tkeras.Input(shape=(img_size[1], img_size[0], 3)),\n",
    "\n",
    "\t\tkeras.layers.Conv2D(filters=32, kernel_size=5, strides=1, padding='Same', activation='relu'),\n",
    "\t\tkeras.layers.MaxPooling2D(pool_size=2, strides=3),\n",
    "\n",
    "\t\tkeras.layers.Conv2D(filters=64, kernel_size=5, strides=1, padding='Same', activation='relu'),\n",
    "\t\tkeras.layers.MaxPooling2D(pool_size=2, strides=2),\n",
    "\n",
    "\t\tkeras.layers.Conv2D(filters=128, kernel_size=5, strides=1, padding='Same', activation='relu'),\n",
    "\t\tkeras.layers.MaxPooling2D(pool_size=2, strides=2),\n",
    "\n",
    "\t\tkeras.layers.Flatten(),\n",
    "\n",
    "        keras.layers.Dropout(0.5),\n",
    "\n",
    "\t\tkeras.layers.Dense(512, activation=\"relu\"), # idk whether to activate this\n",
    "\n",
    "\t\tkeras.layers.Dense(10, activation=\"softmax\")\n",
    "\t]\n",
    ")\n",
    "\n",
    "# 'mae' seems slightly better than 'mse'\n",
    "model.compile(optimizer=keras.optimizers.Adam(learning_rate=0.00001), loss='sparse_categorical_crossentropy')\n",
    "model.summary()"
   ]
  },
  {
   "cell_type": "code",
   "execution_count": 47,
   "metadata": {},
   "outputs": [
    {
     "name": "stdout",
     "output_type": "stream",
     "text": [
      "Epoch 1/32\n",
      "107/107 [==============================] - 24s 228ms/step - loss: 1.8825 - val_loss: 1.6647\n",
      "Epoch 2/32\n",
      "107/107 [==============================] - 3s 22ms/step - loss: 1.6368 - val_loss: 1.6275\n",
      "Epoch 3/32\n",
      "107/107 [==============================] - 2s 21ms/step - loss: 1.5953 - val_loss: 1.5945\n",
      "Epoch 4/32\n",
      "107/107 [==============================] - 2s 22ms/step - loss: 1.5853 - val_loss: 1.5692\n",
      "Epoch 5/32\n",
      "107/107 [==============================] - 2s 22ms/step - loss: 1.5301 - val_loss: 1.5353\n",
      "Epoch 6/32\n",
      "107/107 [==============================] - 2s 14ms/step - loss: 1.5089 - val_loss: 1.5400\n",
      "Epoch 7/32\n",
      "107/107 [==============================] - 2s 14ms/step - loss: 1.4692 - val_loss: 1.4975\n",
      "Epoch 8/32\n",
      "107/107 [==============================] - 1s 14ms/step - loss: 1.4310 - val_loss: 1.4666\n",
      "Epoch 9/32\n",
      "107/107 [==============================] - 2s 14ms/step - loss: 1.4048 - val_loss: 1.4449\n",
      "Epoch 10/32\n",
      "107/107 [==============================] - 2s 15ms/step - loss: 1.3750 - val_loss: 1.4445\n",
      "Epoch 11/32\n",
      "107/107 [==============================] - 2s 15ms/step - loss: 1.3499 - val_loss: 1.4247\n",
      "Epoch 12/32\n",
      "107/107 [==============================] - 2s 15ms/step - loss: 1.3132 - val_loss: 1.4166\n",
      "Epoch 13/32\n",
      "107/107 [==============================] - 1s 14ms/step - loss: 1.2794 - val_loss: 1.4305\n",
      "Epoch 14/32\n",
      "107/107 [==============================] - 1s 13ms/step - loss: 1.3101 - val_loss: 1.3960\n",
      "Epoch 15/32\n",
      "107/107 [==============================] - 1s 14ms/step - loss: 1.2909 - val_loss: 1.4262\n",
      "Epoch 16/32\n",
      "107/107 [==============================] - 2s 14ms/step - loss: 1.2445 - val_loss: 1.3847\n",
      "Epoch 17/32\n",
      "107/107 [==============================] - 1s 14ms/step - loss: 1.2434 - val_loss: 1.3775\n",
      "Epoch 18/32\n",
      "107/107 [==============================] - 1s 13ms/step - loss: 1.2335 - val_loss: 1.3659\n",
      "Epoch 19/32\n",
      "107/107 [==============================] - 1s 14ms/step - loss: 1.1976 - val_loss: 1.3961\n",
      "Epoch 20/32\n",
      "107/107 [==============================] - 1s 13ms/step - loss: 1.1982 - val_loss: 1.3567\n",
      "Epoch 21/32\n",
      "107/107 [==============================] - 2s 14ms/step - loss: 1.1867 - val_loss: 1.3583\n",
      "Epoch 22/32\n",
      "107/107 [==============================] - 1s 14ms/step - loss: 1.1697 - val_loss: 1.3709\n",
      "Epoch 23/32\n",
      "107/107 [==============================] - 1s 14ms/step - loss: 1.1871 - val_loss: 1.4049\n",
      "Epoch 24/32\n",
      "107/107 [==============================] - 1s 14ms/step - loss: 1.1509 - val_loss: 1.3453\n",
      "Epoch 25/32\n",
      "107/107 [==============================] - 1s 14ms/step - loss: 1.1511 - val_loss: 1.3496\n",
      "Epoch 26/32\n",
      "107/107 [==============================] - 1s 14ms/step - loss: 1.1375 - val_loss: 1.3438\n",
      "Epoch 27/32\n",
      "107/107 [==============================] - 2s 14ms/step - loss: 1.0938 - val_loss: 1.3400\n",
      "Epoch 28/32\n",
      "107/107 [==============================] - 1s 14ms/step - loss: 1.1462 - val_loss: 1.3537\n",
      "Epoch 29/32\n",
      "107/107 [==============================] - 2s 14ms/step - loss: 1.0846 - val_loss: 1.3427\n",
      "Epoch 30/32\n",
      "107/107 [==============================] - 2s 14ms/step - loss: 1.1123 - val_loss: 1.3488\n",
      "Epoch 31/32\n",
      "107/107 [==============================] - 2s 15ms/step - loss: 1.0601 - val_loss: 1.3787\n",
      "Epoch 32/32\n",
      "107/107 [==============================] - 2s 14ms/step - loss: 1.0778 - val_loss: 1.3527\n"
     ]
    }
   ],
   "source": [
    "batch_size = 16\n",
    "epochs = 32\n",
    "\n",
    "history = model.fit(\n",
    "\tx_train, y_train,\n",
    "\tbatch_size=batch_size,\n",
    "\tepochs=epochs,\n",
    "\tvalidation_data=(x_valid, y_valid),\n",
    "\tsteps_per_epoch=len(x_train) // batch_size # num_samples / batch_size\n",
    ")"
   ]
  },
  {
   "cell_type": "code",
   "execution_count": null,
   "metadata": {},
   "outputs": [
    {
     "data": {
      "image/png": "[encoded data removed]",
      "text/plain": [
       "<Figure size 432x288 with 1 Axes>"
      ]
     },
     "metadata": {
      "needs_background": "light"
     },
     "output_type": "display_data"
    }
   ],
   "source": [
    "plt.plot(history.history[\"loss\"])\n",
    "plt.plot(history.history[\"val_loss\"])\n",
    "plt.title(\"Model Loss\")\n",
    "plt.xlabel(\"Epochs\")\n",
    "plt.ylabel(\"Loss\")\n",
    "plt.legend([\"train\", \"validation\"])\n",
    "plt.show()"
   ]
  },
  {
   "cell_type": "code",
   "execution_count": null,
   "metadata": {},
   "outputs": [
    {
     "name": "stdout",
     "output_type": "stream",
     "text": [
      "6/6 [==============================] - 0s 5ms/step\n"
     ]
    },
    {
     "data": {
      "image/png": "[encoded data removed]",
      "text/plain": [
       "<Figure size 432x288 with 1 Axes>"
      ]
     },
     "metadata": {
      "needs_background": "light"
     },
     "output_type": "display_data"
    }
   ],
   "source": [
    "preds = model.predict(x_valid)\n",
    "preds = np.argmax(preds, axis=1)\n",
    "num_results = 16#len(preds)\n",
    "width = 0.35\n",
    "fig, ax = plt.subplots()\n",
    "x = np.arange(num_results)\n",
    "rects1 = ax.bar(x - width / 2, y_valid[:num_results], width, label='Actual')\n",
    "rects2 = ax.bar(x + width / 2, preds[:num_results], width, label='Predicted')\n",
    "ax.legend()\n",
    "ax.bar_label(rects1, padding=3)\n",
    "ax.bar_label(rects2, padding=3)\n",
    "fig.tight_layout()\n",
    "plt.title(\"Actual vs predicted views\")\n",
    "plt.show()"
   ]
  }
 ],
 "metadata": {
  "kernelspec": {
   "display_name": "Python 3.10.5 64-bit",
   "language": "python",
   "name": "python3"
  },
  "language_info": {
   "codemirror_mode": {
    "name": "ipython",
    "version": 3
   },
   "file_extension": ".py",
   "mimetype": "text/x-python",
   "name": "python",
   "nbconvert_exporter": "python",
   "pygments_lexer": "ipython3",
   "version": "3.10.5"
  },
  "orig_nbformat": 4,
  "vscode": {
   "interpreter": {
    "hash": "88076a93485f247efb60c9d00611d55633c59f1fed461cddd11c3c36f6a72202"
   }
  }
 },
 "nbformat": 4,
 "nbformat_minor": 2
}
