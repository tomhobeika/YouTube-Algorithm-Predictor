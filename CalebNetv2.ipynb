{
 "cells": [
  {
   "cell_type": "code",
   "execution_count": 2,
   "metadata": {},
   "outputs": [],
   "source": [
    "from tensorflow import keras\n",
    "import matplotlib.pyplot as plt\n",
    "import numpy as np\n",
    "from PIL import Image\n",
    "import os\n",
    "import math"
   ]
  },
  {
   "cell_type": "code",
   "execution_count": 3,
   "metadata": {},
   "outputs": [],
   "source": [
    "# Downscale thumbnails to 360p for training\n",
    "img_size = (168, 94)\n",
    "\n",
    "def loadImage(path):\n",
    "\timg = Image.open(path, 'r').convert('RGB').resize(img_size)\n",
    "\t# Convert colors from 0-255 to 0-1\n",
    "\treturn np.asarray(img) / 255"
   ]
  },
  {
   "cell_type": "code",
   "execution_count": 4,
   "metadata": {},
   "outputs": [
    {
     "data": {
      "text/plain": [
       "1918"
      ]
     },
     "execution_count": 4,
     "metadata": {},
     "output_type": "execute_result"
    }
   ],
   "source": [
    "# AI tries to match target values given source values\n",
    "source = []\n",
    "subs_src = []\n",
    "target = []\n",
    "\n",
    "# Import thumbnails from dataset/ folder\n",
    "for img in os.listdir('dataset'):\n",
    "\tsource.append(loadImage(f'dataset/{img}'))\n",
    "\tviews, subs = img[12:-4].split(\"_\")\n",
    "\tviews_mag = len(views) - 1\n",
    "\ttarget.append(views_mag)\n",
    "\tsubs_mag = (len(subs) - 1) / 10 # some dog shit normalisation\n",
    "\tsubs_src.append(subs_mag)\n",
    "\n",
    "# Convert to numpy arrays\n",
    "source = np.array(source)\n",
    "target = np.array(target)\n",
    "subs_src = np.array(subs_src)\n",
    "len(source)"
   ]
  },
  {
   "cell_type": "code",
   "execution_count": 5,
   "metadata": {},
   "outputs": [],
   "source": [
    "# x_train, x_valid, y_train, y_valid = train_test_split(source, subs_src, target, test_size=0.1)\n",
    "# needed a train_test_split that does two things\n",
    "train_to = int(len(source) / 10 * 8)\n",
    "valid_from = train_to\n",
    "valid_to = len(source)\n",
    "\n",
    "x_train_p1 = source[0:train_to]\n",
    "x_train_p2 = subs_src[0:train_to]\n",
    "y_train = target[0:train_to]\n",
    "x_train = [x_train_p1, x_train_p2]\n",
    "\n",
    "x_valid_p1 = source[valid_from:valid_to]\n",
    "x_valid_p2 = subs_src[valid_from:valid_to]\n",
    "y_valid = target[valid_from:valid_to]\n",
    "x_valid = [x_valid_p1, x_valid_p2]"
   ]
  },
  {
   "cell_type": "code",
   "execution_count": 28,
   "metadata": {},
   "outputs": [
    {
     "ename": "ValueError",
     "evalue": "The name \"dropout_0.5\" is used 2 times in the model. All layer names should be unique.",
     "output_type": "error",
     "traceback": [
      "\u001b[1;31m---------------------------------------------------------------------------\u001b[0m",
      "\u001b[1;31mValueError\u001b[0m                                Traceback (most recent call last)",
      "\u001b[1;32mc:\\dev\\other\\YouTube-Algorithm-Predictor\\CalebNetv2.ipynb Cell 5\u001b[0m in \u001b[0;36m<cell line: 23>\u001b[1;34m()\u001b[0m\n\u001b[0;32m     <a href='vscode-notebook-cell:/c%3A/dev/other/YouTube-Algorithm-Predictor/CalebNetv2.ipynb#W4sZmlsZQ%3D%3D?line=19'>20</a>\u001b[0m z \u001b[39m=\u001b[39m keras\u001b[39m.\u001b[39mlayers\u001b[39m.\u001b[39mDense(\u001b[39m128\u001b[39m, activation\u001b[39m=\u001b[39m\u001b[39m'\u001b[39m\u001b[39mrelu\u001b[39m\u001b[39m'\u001b[39m, name\u001b[39m=\u001b[39m\u001b[39m\"\u001b[39m\u001b[39mconcat_dense\u001b[39m\u001b[39m\"\u001b[39m)(z)\n\u001b[0;32m     <a href='vscode-notebook-cell:/c%3A/dev/other/YouTube-Algorithm-Predictor/CalebNetv2.ipynb#W4sZmlsZQ%3D%3D?line=21'>22</a>\u001b[0m output \u001b[39m=\u001b[39m keras\u001b[39m.\u001b[39mlayers\u001b[39m.\u001b[39mDense(\u001b[39m10\u001b[39m, activation\u001b[39m=\u001b[39m\u001b[39m'\u001b[39m\u001b[39msoftmax\u001b[39m\u001b[39m'\u001b[39m, name\u001b[39m=\u001b[39m\u001b[39m\"\u001b[39m\u001b[39moutput\u001b[39m\u001b[39m\"\u001b[39m)(z)\n\u001b[1;32m---> <a href='vscode-notebook-cell:/c%3A/dev/other/YouTube-Algorithm-Predictor/CalebNetv2.ipynb#W4sZmlsZQ%3D%3D?line=22'>23</a>\u001b[0m model \u001b[39m=\u001b[39m keras\u001b[39m.\u001b[39;49mModel(inputs\u001b[39m=\u001b[39;49m[i1, i2], outputs\u001b[39m=\u001b[39;49moutput)\n\u001b[0;32m     <a href='vscode-notebook-cell:/c%3A/dev/other/YouTube-Algorithm-Predictor/CalebNetv2.ipynb#W4sZmlsZQ%3D%3D?line=24'>25</a>\u001b[0m model\u001b[39m.\u001b[39mcompile(optimizer\u001b[39m=\u001b[39mkeras\u001b[39m.\u001b[39moptimizers\u001b[39m.\u001b[39mAdam(learning_rate\u001b[39m=\u001b[39m\u001b[39m0.0001\u001b[39m), loss\u001b[39m=\u001b[39mkeras\u001b[39m.\u001b[39mlosses\u001b[39m.\u001b[39mSparseCategoricalCrossentropy(), metrics\u001b[39m=\u001b[39m[\u001b[39m\"\u001b[39m\u001b[39maccuracy\u001b[39m\u001b[39m\"\u001b[39m])\n\u001b[0;32m     <a href='vscode-notebook-cell:/c%3A/dev/other/YouTube-Algorithm-Predictor/CalebNetv2.ipynb#W4sZmlsZQ%3D%3D?line=25'>26</a>\u001b[0m model\u001b[39m.\u001b[39msummary()\n",
      "File \u001b[1;32mf:\\programs\\python\\3105\\lib\\site-packages\\tensorflow\\python\\trackable\\base.py:205\u001b[0m, in \u001b[0;36mno_automatic_dependency_tracking.<locals>._method_wrapper\u001b[1;34m(self, *args, **kwargs)\u001b[0m\n\u001b[0;32m    203\u001b[0m \u001b[39mself\u001b[39m\u001b[39m.\u001b[39m_self_setattr_tracking \u001b[39m=\u001b[39m \u001b[39mFalse\u001b[39;00m  \u001b[39m# pylint: disable=protected-access\u001b[39;00m\n\u001b[0;32m    204\u001b[0m \u001b[39mtry\u001b[39;00m:\n\u001b[1;32m--> 205\u001b[0m   result \u001b[39m=\u001b[39m method(\u001b[39mself\u001b[39m, \u001b[39m*\u001b[39margs, \u001b[39m*\u001b[39m\u001b[39m*\u001b[39mkwargs)\n\u001b[0;32m    206\u001b[0m \u001b[39mfinally\u001b[39;00m:\n\u001b[0;32m    207\u001b[0m   \u001b[39mself\u001b[39m\u001b[39m.\u001b[39m_self_setattr_tracking \u001b[39m=\u001b[39m previous_value  \u001b[39m# pylint: disable=protected-access\u001b[39;00m\n",
      "File \u001b[1;32mf:\\programs\\python\\3105\\lib\\site-packages\\keras\\engine\\functional.py:165\u001b[0m, in \u001b[0;36mFunctional.__init__\u001b[1;34m(self, inputs, outputs, name, trainable, **kwargs)\u001b[0m\n\u001b[0;32m    156\u001b[0m     \u001b[39mif\u001b[39;00m \u001b[39mnot\u001b[39;00m \u001b[39mall\u001b[39m(\n\u001b[0;32m    157\u001b[0m         [\n\u001b[0;32m    158\u001b[0m             functional_utils\u001b[39m.\u001b[39mis_input_keras_tensor(t)\n\u001b[0;32m    159\u001b[0m             \u001b[39mfor\u001b[39;00m t \u001b[39min\u001b[39;00m tf\u001b[39m.\u001b[39mnest\u001b[39m.\u001b[39mflatten(inputs)\n\u001b[0;32m    160\u001b[0m         ]\n\u001b[0;32m    161\u001b[0m     ):\n\u001b[0;32m    162\u001b[0m         inputs, outputs \u001b[39m=\u001b[39m functional_utils\u001b[39m.\u001b[39mclone_graph_nodes(\n\u001b[0;32m    163\u001b[0m             inputs, outputs\n\u001b[0;32m    164\u001b[0m         )\n\u001b[1;32m--> 165\u001b[0m \u001b[39mself\u001b[39;49m\u001b[39m.\u001b[39;49m_init_graph_network(inputs, outputs)\n",
      "File \u001b[1;32mf:\\programs\\python\\3105\\lib\\site-packages\\tensorflow\\python\\trackable\\base.py:205\u001b[0m, in \u001b[0;36mno_automatic_dependency_tracking.<locals>._method_wrapper\u001b[1;34m(self, *args, **kwargs)\u001b[0m\n\u001b[0;32m    203\u001b[0m \u001b[39mself\u001b[39m\u001b[39m.\u001b[39m_self_setattr_tracking \u001b[39m=\u001b[39m \u001b[39mFalse\u001b[39;00m  \u001b[39m# pylint: disable=protected-access\u001b[39;00m\n\u001b[0;32m    204\u001b[0m \u001b[39mtry\u001b[39;00m:\n\u001b[1;32m--> 205\u001b[0m   result \u001b[39m=\u001b[39m method(\u001b[39mself\u001b[39m, \u001b[39m*\u001b[39margs, \u001b[39m*\u001b[39m\u001b[39m*\u001b[39mkwargs)\n\u001b[0;32m    206\u001b[0m \u001b[39mfinally\u001b[39;00m:\n\u001b[0;32m    207\u001b[0m   \u001b[39mself\u001b[39m\u001b[39m.\u001b[39m_self_setattr_tracking \u001b[39m=\u001b[39m previous_value  \u001b[39m# pylint: disable=protected-access\u001b[39;00m\n",
      "File \u001b[1;32mf:\\programs\\python\\3105\\lib\\site-packages\\keras\\engine\\functional.py:264\u001b[0m, in \u001b[0;36mFunctional._init_graph_network\u001b[1;34m(self, inputs, outputs)\u001b[0m\n\u001b[0;32m    261\u001b[0m     \u001b[39mself\u001b[39m\u001b[39m.\u001b[39m_input_coordinates\u001b[39m.\u001b[39mappend((layer, node_index, tensor_index))\n\u001b[0;32m    263\u001b[0m \u001b[39m# Keep track of the network's nodes and layers.\u001b[39;00m\n\u001b[1;32m--> 264\u001b[0m nodes, nodes_by_depth, layers, _ \u001b[39m=\u001b[39m _map_graph_network(\n\u001b[0;32m    265\u001b[0m     \u001b[39mself\u001b[39;49m\u001b[39m.\u001b[39;49minputs, \u001b[39mself\u001b[39;49m\u001b[39m.\u001b[39;49moutputs\n\u001b[0;32m    266\u001b[0m )\n\u001b[0;32m    267\u001b[0m \u001b[39mself\u001b[39m\u001b[39m.\u001b[39m_network_nodes \u001b[39m=\u001b[39m nodes\n\u001b[0;32m    268\u001b[0m \u001b[39mself\u001b[39m\u001b[39m.\u001b[39m_nodes_by_depth \u001b[39m=\u001b[39m nodes_by_depth\n",
      "File \u001b[1;32mf:\\programs\\python\\3105\\lib\\site-packages\\keras\\engine\\functional.py:1143\u001b[0m, in \u001b[0;36m_map_graph_network\u001b[1;34m(inputs, outputs)\u001b[0m\n\u001b[0;32m   1141\u001b[0m \u001b[39mfor\u001b[39;00m name \u001b[39min\u001b[39;00m all_names:\n\u001b[0;32m   1142\u001b[0m     \u001b[39mif\u001b[39;00m all_names\u001b[39m.\u001b[39mcount(name) \u001b[39m!=\u001b[39m \u001b[39m1\u001b[39m:\n\u001b[1;32m-> 1143\u001b[0m         \u001b[39mraise\u001b[39;00m \u001b[39mValueError\u001b[39;00m(\n\u001b[0;32m   1144\u001b[0m             \u001b[39mf\u001b[39m\u001b[39m'\u001b[39m\u001b[39mThe name \u001b[39m\u001b[39m\"\u001b[39m\u001b[39m{\u001b[39;00mname\u001b[39m}\u001b[39;00m\u001b[39m\"\u001b[39m\u001b[39m is used \u001b[39m\u001b[39m{\u001b[39;00mall_names\u001b[39m.\u001b[39mcount(name)\u001b[39m}\u001b[39;00m\u001b[39m \u001b[39m\u001b[39m'\u001b[39m\n\u001b[0;32m   1145\u001b[0m             \u001b[39m\"\u001b[39m\u001b[39mtimes in the model. All layer names should be unique.\u001b[39m\u001b[39m\"\u001b[39m\n\u001b[0;32m   1146\u001b[0m         )\n\u001b[0;32m   1147\u001b[0m \u001b[39mreturn\u001b[39;00m network_nodes, nodes_by_depth, layers, layers_by_depth\n",
      "\u001b[1;31mValueError\u001b[0m: The name \"dropout_0.5\" is used 2 times in the model. All layer names should be unique."
     ]
    }
   ],
   "source": [
    "i1 = keras.Input(shape=(img_size[1], img_size[0], 3), name=\"thumbnail\")\n",
    "x = keras.layers.Conv2D(filters=32, kernel_size=3, strides=2, padding='Same', activation='relu', name=\"feat_ext_1\")(i1)\n",
    "x = keras.layers.MaxPooling2D(pool_size=2, strides=2, name=\"pool_1\")(x)\n",
    "\n",
    "x = keras.layers.Conv2D(filters=64, kernel_size=3, strides=2, padding='Same', activation='relu', name=\"feat_ext_2\")(x)\n",
    "x = keras.layers.MaxPooling2D(pool_size=2, strides=2, name=\"pool_2\")(x)\n",
    "\n",
    "x = keras.layers.Conv2D(filters=128, kernel_size=3, strides=2, padding='Same', activation='relu', name=\"feat_ext_3\")(x)\n",
    "x = keras.layers.MaxPooling2D(pool_size=2, strides=2, name=\"pool_3\")(x)\n",
    "\n",
    "x = keras.layers.Flatten(name=\"flatten_1\")(x)\n",
    "x = keras.layers.Dense(128, activation='relu', name=\"thumb_dense\")(x)\n",
    "x = keras.layers.Dropout(0.5, name=\"dropout_1\")(x)\n",
    "\n",
    "i2 = keras.Input(shape=(1,), name=\"subs\")\n",
    "y = keras.layers.Dense(128, activation='relu', name=\"sub_expansion\")(i2)\n",
    "y = keras.layers.Dropout(0.5, name=\"dropout_2\")(y)\n",
    "\n",
    "z = keras.layers.Concatenate(name=\"concat\")([x, y])\n",
    "z = keras.layers.Dense(128, activation='relu', name=\"concat_dense\")(z)\n",
    "\n",
    "output = keras.layers.Dense(10, activation='softmax', name=\"output\")(z)\n",
    "model = keras.Model(inputs=[i1, i2], outputs=output)\n",
    "\n",
    "model.compile(optimizer=keras.optimizers.Adam(learning_rate=0.0001), loss=keras.losses.SparseCategoricalCrossentropy(), metrics=[\"accuracy\"])\n",
    "model.summary()"
   ]
  },
  {
   "cell_type": "code",
   "execution_count": 26,
   "metadata": {},
   "outputs": [
    {
     "name": "stdout",
     "output_type": "stream",
     "text": [
      "Epoch 1/64\n",
      "24/24 [==============================] - 1s 17ms/step - loss: 2.0220 - accuracy: 0.4100 - val_loss: 1.8531 - val_accuracy: 0.3802\n",
      "Epoch 2/64\n",
      "24/24 [==============================] - 0s 11ms/step - loss: 1.7305 - accuracy: 0.4140 - val_loss: 1.6890 - val_accuracy: 0.3802\n",
      "Epoch 3/64\n",
      "24/24 [==============================] - 0s 10ms/step - loss: 1.6451 - accuracy: 0.4133 - val_loss: 1.6490 - val_accuracy: 0.3802\n",
      "Epoch 4/64\n",
      "24/24 [==============================] - 0s 11ms/step - loss: 1.6190 - accuracy: 0.4140 - val_loss: 1.6364 - val_accuracy: 0.3802\n",
      "Epoch 5/64\n",
      "24/24 [==============================] - 0s 10ms/step - loss: 1.6206 - accuracy: 0.4133 - val_loss: 1.6384 - val_accuracy: 0.3802\n",
      "Epoch 6/64\n",
      "24/24 [==============================] - 0s 10ms/step - loss: 1.6136 - accuracy: 0.4140 - val_loss: 1.6229 - val_accuracy: 0.3802\n",
      "Epoch 7/64\n",
      "24/24 [==============================] - 0s 10ms/step - loss: 1.6010 - accuracy: 0.4146 - val_loss: 1.6119 - val_accuracy: 0.3802\n",
      "Epoch 8/64\n",
      "24/24 [==============================] - 0s 11ms/step - loss: 1.5947 - accuracy: 0.4133 - val_loss: 1.6079 - val_accuracy: 0.3802\n",
      "Epoch 9/64\n",
      "24/24 [==============================] - 0s 10ms/step - loss: 1.5788 - accuracy: 0.4153 - val_loss: 1.5849 - val_accuracy: 0.3802\n",
      "Epoch 10/64\n",
      "24/24 [==============================] - 0s 10ms/step - loss: 1.5683 - accuracy: 0.4107 - val_loss: 1.5838 - val_accuracy: 0.3802\n",
      "Epoch 11/64\n",
      "24/24 [==============================] - 0s 10ms/step - loss: 1.5525 - accuracy: 0.4205 - val_loss: 1.5522 - val_accuracy: 0.4062\n",
      "Epoch 12/64\n",
      "24/24 [==============================] - 0s 11ms/step - loss: 1.5429 - accuracy: 0.4146 - val_loss: 1.5341 - val_accuracy: 0.3906\n",
      "Epoch 13/64\n",
      "24/24 [==============================] - 0s 10ms/step - loss: 1.5246 - accuracy: 0.4172 - val_loss: 1.5145 - val_accuracy: 0.4245\n",
      "Epoch 14/64\n",
      "24/24 [==============================] - 0s 10ms/step - loss: 1.5030 - accuracy: 0.4257 - val_loss: 1.5032 - val_accuracy: 0.4141\n",
      "Epoch 15/64\n",
      "24/24 [==============================] - 0s 10ms/step - loss: 1.4759 - accuracy: 0.4322 - val_loss: 1.4750 - val_accuracy: 0.4193\n",
      "Epoch 16/64\n",
      "24/24 [==============================] - 0s 12ms/step - loss: 1.4640 - accuracy: 0.4387 - val_loss: 1.4622 - val_accuracy: 0.4115\n",
      "Epoch 17/64\n",
      "24/24 [==============================] - 0s 10ms/step - loss: 1.4512 - accuracy: 0.4446 - val_loss: 1.4712 - val_accuracy: 0.4245\n",
      "Epoch 18/64\n",
      "24/24 [==============================] - 0s 10ms/step - loss: 1.4293 - accuracy: 0.4570 - val_loss: 1.4486 - val_accuracy: 0.4271\n",
      "Epoch 19/64\n",
      "24/24 [==============================] - 0s 10ms/step - loss: 1.4106 - accuracy: 0.4426 - val_loss: 1.4306 - val_accuracy: 0.4297\n",
      "Epoch 20/64\n",
      "24/24 [==============================] - 0s 11ms/step - loss: 1.3940 - accuracy: 0.4544 - val_loss: 1.4092 - val_accuracy: 0.4401\n",
      "Epoch 21/64\n",
      "24/24 [==============================] - 0s 10ms/step - loss: 1.3849 - accuracy: 0.4583 - val_loss: 1.4355 - val_accuracy: 0.4479\n",
      "Epoch 22/64\n",
      "24/24 [==============================] - 0s 10ms/step - loss: 1.3790 - accuracy: 0.4713 - val_loss: 1.3965 - val_accuracy: 0.4583\n",
      "Epoch 23/64\n",
      "24/24 [==============================] - 0s 10ms/step - loss: 1.3709 - accuracy: 0.4674 - val_loss: 1.3889 - val_accuracy: 0.4583\n",
      "Epoch 24/64\n",
      "24/24 [==============================] - 0s 11ms/step - loss: 1.3492 - accuracy: 0.5039 - val_loss: 1.4090 - val_accuracy: 0.4323\n",
      "Epoch 25/64\n",
      "24/24 [==============================] - 0s 10ms/step - loss: 1.3498 - accuracy: 0.4804 - val_loss: 1.3712 - val_accuracy: 0.4531\n",
      "Epoch 26/64\n",
      "24/24 [==============================] - 0s 10ms/step - loss: 1.3223 - accuracy: 0.5046 - val_loss: 1.3657 - val_accuracy: 0.4635\n",
      "Epoch 27/64\n",
      "24/24 [==============================] - 0s 10ms/step - loss: 1.3197 - accuracy: 0.5000 - val_loss: 1.3496 - val_accuracy: 0.4844\n",
      "Epoch 28/64\n",
      "24/24 [==============================] - 0s 12ms/step - loss: 1.3127 - accuracy: 0.5000 - val_loss: 1.3483 - val_accuracy: 0.4766\n",
      "Epoch 29/64\n",
      "24/24 [==============================] - 0s 10ms/step - loss: 1.2890 - accuracy: 0.5137 - val_loss: 1.3663 - val_accuracy: 0.4661\n",
      "Epoch 30/64\n",
      "24/24 [==============================] - 0s 10ms/step - loss: 1.2826 - accuracy: 0.5156 - val_loss: 1.3538 - val_accuracy: 0.4479\n",
      "Epoch 31/64\n",
      "24/24 [==============================] - 0s 10ms/step - loss: 1.2806 - accuracy: 0.5222 - val_loss: 1.3218 - val_accuracy: 0.4740\n",
      "Epoch 32/64\n",
      "24/24 [==============================] - 0s 12ms/step - loss: 1.2618 - accuracy: 0.5169 - val_loss: 1.3117 - val_accuracy: 0.4896\n",
      "Epoch 33/64\n",
      "24/24 [==============================] - 0s 10ms/step - loss: 1.2442 - accuracy: 0.5287 - val_loss: 1.3015 - val_accuracy: 0.5078\n",
      "Epoch 34/64\n",
      "24/24 [==============================] - 0s 10ms/step - loss: 1.2403 - accuracy: 0.5300 - val_loss: 1.2975 - val_accuracy: 0.5026\n",
      "Epoch 35/64\n",
      "24/24 [==============================] - 0s 10ms/step - loss: 1.2312 - accuracy: 0.5443 - val_loss: 1.2907 - val_accuracy: 0.4922\n",
      "Epoch 36/64\n",
      "24/24 [==============================] - 0s 11ms/step - loss: 1.2142 - accuracy: 0.5561 - val_loss: 1.2794 - val_accuracy: 0.4922\n",
      "Epoch 37/64\n",
      "24/24 [==============================] - 0s 10ms/step - loss: 1.1942 - accuracy: 0.5606 - val_loss: 1.2760 - val_accuracy: 0.4870\n",
      "Epoch 38/64\n",
      "24/24 [==============================] - 0s 10ms/step - loss: 1.1924 - accuracy: 0.5639 - val_loss: 1.2733 - val_accuracy: 0.5078\n",
      "Epoch 39/64\n",
      "24/24 [==============================] - 0s 10ms/step - loss: 1.1755 - accuracy: 0.5626 - val_loss: 1.2723 - val_accuracy: 0.4948\n",
      "Epoch 40/64\n",
      "24/24 [==============================] - 0s 11ms/step - loss: 1.1750 - accuracy: 0.5619 - val_loss: 1.2763 - val_accuracy: 0.4844\n",
      "Epoch 41/64\n",
      "24/24 [==============================] - 0s 10ms/step - loss: 1.1549 - accuracy: 0.5626 - val_loss: 1.2441 - val_accuracy: 0.4922\n",
      "Epoch 42/64\n",
      "24/24 [==============================] - 0s 10ms/step - loss: 1.1353 - accuracy: 0.5887 - val_loss: 1.2595 - val_accuracy: 0.4922\n",
      "Epoch 43/64\n",
      "24/24 [==============================] - 0s 9ms/step - loss: 1.1242 - accuracy: 0.5769 - val_loss: 1.2491 - val_accuracy: 0.4948\n",
      "Epoch 44/64\n",
      "24/24 [==============================] - 0s 11ms/step - loss: 1.1270 - accuracy: 0.5815 - val_loss: 1.2293 - val_accuracy: 0.5156\n",
      "Epoch 45/64\n",
      "24/24 [==============================] - 0s 10ms/step - loss: 1.1030 - accuracy: 0.6069 - val_loss: 1.2304 - val_accuracy: 0.5104\n",
      "Epoch 46/64\n",
      "24/24 [==============================] - 0s 10ms/step - loss: 1.1035 - accuracy: 0.5893 - val_loss: 1.2174 - val_accuracy: 0.5182\n",
      "Epoch 47/64\n",
      "24/24 [==============================] - 0s 10ms/step - loss: 1.0745 - accuracy: 0.6069 - val_loss: 1.2089 - val_accuracy: 0.5208\n",
      "Epoch 48/64\n",
      "24/24 [==============================] - 0s 10ms/step - loss: 1.0687 - accuracy: 0.6004 - val_loss: 1.2049 - val_accuracy: 0.5391\n",
      "Epoch 49/64\n",
      "24/24 [==============================] - 0s 11ms/step - loss: 1.0638 - accuracy: 0.5952 - val_loss: 1.1887 - val_accuracy: 0.5495\n",
      "Epoch 50/64\n",
      "24/24 [==============================] - 0s 10ms/step - loss: 1.0566 - accuracy: 0.6023 - val_loss: 1.1804 - val_accuracy: 0.5208\n",
      "Epoch 51/64\n",
      "24/24 [==============================] - 0s 10ms/step - loss: 1.0351 - accuracy: 0.6128 - val_loss: 1.1750 - val_accuracy: 0.5339\n",
      "Epoch 52/64\n",
      "24/24 [==============================] - 0s 10ms/step - loss: 1.0393 - accuracy: 0.6121 - val_loss: 1.2028 - val_accuracy: 0.5156\n",
      "Epoch 53/64\n",
      "24/24 [==============================] - 0s 11ms/step - loss: 1.0414 - accuracy: 0.6089 - val_loss: 1.1992 - val_accuracy: 0.5208\n",
      "Epoch 54/64\n",
      "24/24 [==============================] - 0s 10ms/step - loss: 1.0194 - accuracy: 0.6160 - val_loss: 1.1734 - val_accuracy: 0.5286\n",
      "Epoch 55/64\n",
      "24/24 [==============================] - 0s 10ms/step - loss: 1.0263 - accuracy: 0.5997 - val_loss: 1.1725 - val_accuracy: 0.5365\n",
      "Epoch 56/64\n",
      "24/24 [==============================] - 0s 9ms/step - loss: 0.9926 - accuracy: 0.6389 - val_loss: 1.1834 - val_accuracy: 0.5286\n",
      "Epoch 57/64\n",
      "24/24 [==============================] - 0s 11ms/step - loss: 0.9833 - accuracy: 0.6193 - val_loss: 1.1577 - val_accuracy: 0.5547\n",
      "Epoch 58/64\n",
      "24/24 [==============================] - 0s 10ms/step - loss: 0.9785 - accuracy: 0.6454 - val_loss: 1.1895 - val_accuracy: 0.5156\n",
      "Epoch 59/64\n",
      "24/24 [==============================] - 0s 10ms/step - loss: 0.9449 - accuracy: 0.6578 - val_loss: 1.1504 - val_accuracy: 0.5365\n",
      "Epoch 60/64\n",
      "24/24 [==============================] - 0s 10ms/step - loss: 0.9617 - accuracy: 0.6310 - val_loss: 1.1357 - val_accuracy: 0.5417\n",
      "Epoch 61/64\n",
      "24/24 [==============================] - 0s 10ms/step - loss: 0.9658 - accuracy: 0.6447 - val_loss: 1.1388 - val_accuracy: 0.5365\n",
      "Epoch 62/64\n",
      "24/24 [==============================] - 0s 10ms/step - loss: 0.9351 - accuracy: 0.6512 - val_loss: 1.1341 - val_accuracy: 0.5729\n",
      "Epoch 63/64\n",
      "24/24 [==============================] - 0s 10ms/step - loss: 0.9232 - accuracy: 0.6623 - val_loss: 1.1311 - val_accuracy: 0.5599\n",
      "Epoch 64/64\n",
      "24/24 [==============================] - 0s 9ms/step - loss: 0.9255 - accuracy: 0.6532 - val_loss: 1.1423 - val_accuracy: 0.5521\n"
     ]
    }
   ],
   "source": [
    "batch_size = 64\n",
    "epochs = 64\n",
    "\n",
    "history = model.fit(\n",
    "\tx_train, y_train,\n",
    "\tbatch_size=batch_size,\n",
    "\tepochs=epochs,\n",
    "\tvalidation_data=(x_valid, y_valid)#,\n",
    "\t#steps_per_epoch=len(x_train) // batch_size # num_samples / batch_size\n",
    ")"
   ]
  },
  {
   "cell_type": "code",
   "execution_count": 8,
   "metadata": {},
   "outputs": [],
   "source": [
    "model.save('model.h5') # .tf is newer than .h5, but makes a folder"
   ]
  },
  {
   "cell_type": "code",
   "execution_count": 21,
   "metadata": {},
   "outputs": [
    {
     "data": {
      "text/plain": [
       "dict_keys(['loss', 'val_loss'])"
      ]
     },
     "execution_count": 21,
     "metadata": {},
     "output_type": "execute_result"
    }
   ],
   "source": [
    "history.history.keys()"
   ]
  },
  {
   "cell_type": "code",
   "execution_count": 27,
   "metadata": {},
   "outputs": [
    {
     "data": {
      "image/png": "[encoded data removed]",
      "text/plain": [
       "<Figure size 432x288 with 1 Axes>"
      ]
     },
     "metadata": {
      "needs_background": "light"
     },
     "output_type": "display_data"
    },
    {
     "data": {
      "image/png": "[encoded data removed]",
      "text/plain": [
       "<Figure size 432x288 with 1 Axes>"
      ]
     },
     "metadata": {
      "needs_background": "light"
     },
     "output_type": "display_data"
    }
   ],
   "source": [
    "plt.plot(history.history[\"loss\"])\n",
    "plt.plot(history.history[\"val_loss\"])\n",
    "plt.title(\"Model Loss\")\n",
    "plt.xlabel(\"Epochs\")\n",
    "plt.ylabel(\"Loss\")\n",
    "plt.legend([\"train\", \"validation\"])\n",
    "plt.show()\n",
    "plt.plot(history.history[\"accuracy\"])\n",
    "plt.plot(history.history[\"val_accuracy\"])\n",
    "plt.title(\"Model Loss\")\n",
    "plt.xlabel(\"Epochs\")\n",
    "plt.ylabel(\"Accuracy\")\n",
    "plt.legend([\"train\", \"validation\"])\n",
    "plt.show()"
   ]
  },
  {
   "cell_type": "code",
   "execution_count": 10,
   "metadata": {},
   "outputs": [
    {
     "name": "stdout",
     "output_type": "stream",
     "text": [
      "12/12 [==============================] - 0s 2ms/step\n"
     ]
    },
    {
     "data": {
      "image/png": "[encoded data removed]",
      "text/plain": [
       "<Figure size 432x288 with 1 Axes>"
      ]
     },
     "metadata": {
      "needs_background": "light"
     },
     "output_type": "display_data"
    }
   ],
   "source": [
    "preds = model.predict(x_valid)\n",
    "preds = np.argmax(preds, axis=1)\n",
    "num_results = 32#len(preds)\n",
    "width = 0.35\n",
    "fig, ax = plt.subplots()\n",
    "x = np.arange(num_results)\n",
    "rects1 = ax.bar(x - width / 2, y_valid[:num_results], width, label='Actual')\n",
    "rects2 = ax.bar(x + width / 2, preds[:num_results], width, label='Predicted')\n",
    "ax.legend()\n",
    "ax.bar_label(rects1, padding=3)\n",
    "ax.bar_label(rects2, padding=3)\n",
    "fig.tight_layout()\n",
    "plt.title(\"Actual vs predicted views\")\n",
    "plt.show()"
   ]
  },
  {
   "cell_type": "code",
   "execution_count": 11,
   "metadata": {},
   "outputs": [
    {
     "name": "stdout",
     "output_type": "stream",
     "text": [
      "1/1 [==============================] - 0s 86ms/step\n"
     ]
    },
    {
     "data": {
      "text/plain": [
       "array([5], dtype=int64)"
      ]
     },
     "execution_count": 11,
     "metadata": {},
     "output_type": "execute_result"
    }
   ],
   "source": [
    "img = loadImage(\"maxresdefault.jpg\")\n",
    "thing1 = np.array([img])\n",
    "thing2 = np.array([0.3]) # Normalized subcount 0-1\n",
    "np.argmax(model.predict([thing1, thing2]), axis=1)"
   ]
  }
 ],
 "metadata": {
  "kernelspec": {
   "display_name": "Python 3.10.5 64-bit",
   "language": "python",
   "name": "python3"
  },
  "language_info": {
   "codemirror_mode": {
    "name": "ipython",
    "version": 3
   },
   "file_extension": ".py",
   "mimetype": "text/x-python",
   "name": "python",
   "nbconvert_exporter": "python",
   "pygments_lexer": "ipython3",
   "version": "3.10.5"
  },
  "orig_nbformat": 4,
  "vscode": {
   "interpreter": {
    "hash": "88076a93485f247efb60c9d00611d55633c59f1fed461cddd11c3c36f6a72202"
   }
  }
 },
 "nbformat": 4,
 "nbformat_minor": 2
}
