{
 "cells": [
  {
   "cell_type": "code",
   "execution_count": 2,
   "metadata": {},
   "outputs": [],
   "source": [
    "from tensorflow import keras\n",
    "import matplotlib.pyplot as plt\n",
    "import numpy as np\n",
    "from PIL import Image\n",
    "import os\n",
    "import math"
   ]
  },
  {
   "cell_type": "code",
   "execution_count": 3,
   "metadata": {},
   "outputs": [],
   "source": [
    "# Downscale thumbnails to 360p for training\n",
    "img_size = (168, 94)\n",
    "\n",
    "def loadImage(path):\n",
    "\timg = Image.open(path, 'r').convert('RGB').resize(img_size)\n",
    "\t# Convert colors from 0-255 to 0-1\n",
    "\treturn np.asarray(img) / 255"
   ]
  },
  {
   "cell_type": "code",
   "execution_count": 4,
   "metadata": {},
   "outputs": [
    {
     "data": {
      "text/plain": [
       "1918"
      ]
     },
     "execution_count": 4,
     "metadata": {},
     "output_type": "execute_result"
    }
   ],
   "source": [
    "# AI tries to match target values given source values\n",
    "source = []\n",
    "subs_src = []\n",
    "target = []\n",
    "\n",
    "# Import thumbnails from dataset/ folder\n",
    "for img in os.listdir('dataset'):\n",
    "\tsource.append(loadImage(f'dataset/{img}'))\n",
    "\tviews, subs = img[12:-4].split(\"_\")\n",
    "\tviews_mag = len(views) - 1\n",
    "\ttarget.append(views_mag)\n",
    "\tsubs_mag = len(subs) - 1\n",
    "\tsubs_src.append(subs_mag)\n",
    "\n",
    "# Convert to numpy arrays\n",
    "source = np.array(source)\n",
    "target = np.array(target)\n",
    "subs_src = np.array(subs_src)\n",
    "len(source)"
   ]
  },
  {
   "cell_type": "code",
   "execution_count": 5,
   "metadata": {},
   "outputs": [],
   "source": [
    "# x_train, x_valid, y_train, y_valid = train_test_split(source, subs_src, target, test_size=0.1)\n",
    "# needed a train_test_split that does two things\n",
    "train_to = int(len(source) / 10 * 8)\n",
    "valid_from = train_to\n",
    "valid_to = len(source)\n",
    "\n",
    "x_train_p1 = np.array(source[0: train_to])\n",
    "x_train_p2 = np.array(subs_src[0: train_to])\n",
    "y_train = np.array(target[0: train_to])\n",
    "\n",
    "x_train = [x_train_p1, x_train_p2]\n",
    "\n",
    "x_valid_p1 = np.array(source[valid_from: valid_to])\n",
    "x_valid_p2 = np.array(subs_src[valid_from: valid_to])\n",
    "y_valid = np.array(target[valid_from: valid_to])\n",
    "\n",
    "x_valid = [x_valid_p1, x_valid_p2]"
   ]
  },
  {
   "cell_type": "code",
   "execution_count": 71,
   "metadata": {},
   "outputs": [
    {
     "name": "stdout",
     "output_type": "stream",
     "text": [
      "Model: \"model_17\"\n",
      "__________________________________________________________________________________________________\n",
      " Layer (type)                   Output Shape         Param #     Connected to                     \n",
      "==================================================================================================\n",
      " thumbnail (InputLayer)         [(None, 94, 168, 3)  0           []                               \n",
      "                                ]                                                                 \n",
      "                                                                                                  \n",
      " feat_ext_1 (Conv2D)            (None, 47, 84, 32)   2432        ['thumbnail[0][0]']              \n",
      "                                                                                                  \n",
      " pool_1 (MaxPooling2D)          (None, 23, 42, 32)   0           ['feat_ext_1[0][0]']             \n",
      "                                                                                                  \n",
      " feat_ext_2 (Conv2D)            (None, 12, 21, 64)   51264       ['pool_1[0][0]']                 \n",
      "                                                                                                  \n",
      " pool_2 (MaxPooling2D)          (None, 6, 10, 64)    0           ['feat_ext_2[0][0]']             \n",
      "                                                                                                  \n",
      " feat_ext_3 (Conv2D)            (None, 3, 5, 128)    204928      ['pool_2[0][0]']                 \n",
      "                                                                                                  \n",
      " pool_3 (MaxPooling2D)          (None, 1, 2, 128)    0           ['feat_ext_3[0][0]']             \n",
      "                                                                                                  \n",
      " flatten_1 (Flatten)            (None, 256)          0           ['pool_3[0][0]']                 \n",
      "                                                                                                  \n",
      " dropout_0.5 (Dropout)          (None, 256)          0           ['flatten_1[0][0]']              \n",
      "                                                                                                  \n",
      " subs (InputLayer)              [(None, 1)]          0           []                               \n",
      "                                                                                                  \n",
      " thumb_dense (Dense)            (None, 512)          131584      ['dropout_0.5[0][0]']            \n",
      "                                                                                                  \n",
      " sub_expansion (Dense)          (None, 512)          1024        ['subs[0][0]']                   \n",
      "                                                                                                  \n",
      " concat (Concatenate)           (None, 1024)         0           ['thumb_dense[0][0]',            \n",
      "                                                                  'sub_expansion[0][0]']          \n",
      "                                                                                                  \n",
      " concat_dense (Dense)           (None, 512)          524800      ['concat[0][0]']                 \n",
      "                                                                                                  \n",
      " output (Dense)                 (None, 10)           5130        ['concat_dense[0][0]']           \n",
      "                                                                                                  \n",
      "==================================================================================================\n",
      "Total params: 921,162\n",
      "Trainable params: 921,162\n",
      "Non-trainable params: 0\n",
      "__________________________________________________________________________________________________\n"
     ]
    }
   ],
   "source": [
    "i1 = keras.Input(shape=(img_size[1], img_size[0], 3), name=\"thumbnail\")\n",
    "x = keras.layers.Conv2D(filters=32, kernel_size=5, strides=2, padding='Same', activation='relu', name=\"feat_ext_1\")(i1)\n",
    "x = keras.layers.MaxPooling2D(pool_size=2, strides=2, name=\"pool_1\")(x)\n",
    "x = keras.layers.Conv2D(filters=64, kernel_size=5, strides=2, padding='Same', activation='relu', name=\"feat_ext_2\")(x)\n",
    "x = keras.layers.MaxPooling2D(pool_size=2, strides=2, name=\"pool_2\")(x)\n",
    "x = keras.layers.Conv2D(filters=128, kernel_size=5, strides=2, padding='Same', activation='relu', name=\"feat_ext_3\")(x)\n",
    "x = keras.layers.MaxPooling2D(pool_size=2, strides=2, name=\"pool_3\")(x)\n",
    "x = keras.layers.Flatten(name=\"flatten_1\")(x)\n",
    "x = keras.layers.Dropout(0.5, name=\"dropout_0.5\")(x)\n",
    "x = keras.layers.Dense(512, activation='relu', name=\"thumb_dense\")(x)\n",
    "\n",
    "i2 = keras.Input(shape=(1,), name=\"subs\")\n",
    "y = keras.layers.Dense(512, activation='relu', name=\"sub_expansion\")(i2)\n",
    "\n",
    "z = keras.layers.Concatenate(name=\"concat\")([x, y])\n",
    "z = keras.layers.Dense(512, activation='relu', name=\"concat_dense\")(z)\n",
    "\n",
    "output = keras.layers.Dense(10, activation='softmax', name=\"output\")(z)\n",
    "model = keras.Model(inputs=[i1, i2], outputs=output)\n",
    "\n",
    "model.compile(optimizer=keras.optimizers.Adam(learning_rate=0.0001), loss=keras.losses.SparseCategoricalCrossentropy())\n",
    "model.summary()"
   ]
  },
  {
   "cell_type": "code",
   "execution_count": 72,
   "metadata": {},
   "outputs": [
    {
     "name": "stdout",
     "output_type": "stream",
     "text": [
      "Epoch 1/64\n",
      "24/24 [==============================] - 1s 22ms/step - loss: 1.8893 - val_loss: 1.6909\n",
      "Epoch 2/64\n",
      "24/24 [==============================] - 0s 11ms/step - loss: 1.6367 - val_loss: 1.6325\n",
      "Epoch 3/64\n",
      "24/24 [==============================] - 0s 10ms/step - loss: 1.6145 - val_loss: 1.6258\n",
      "Epoch 4/64\n",
      "24/24 [==============================] - 0s 11ms/step - loss: 1.6006 - val_loss: 1.6092\n",
      "Epoch 5/64\n",
      "24/24 [==============================] - 0s 12ms/step - loss: 1.5813 - val_loss: 1.5835\n",
      "Epoch 6/64\n",
      "24/24 [==============================] - 0s 10ms/step - loss: 1.5626 - val_loss: 1.5692\n",
      "Epoch 7/64\n",
      "24/24 [==============================] - 0s 10ms/step - loss: 1.5338 - val_loss: 1.5586\n",
      "Epoch 8/64\n",
      "24/24 [==============================] - 0s 11ms/step - loss: 1.5016 - val_loss: 1.5127\n",
      "Epoch 9/64\n",
      "24/24 [==============================] - 0s 13ms/step - loss: 1.4598 - val_loss: 1.4451\n",
      "Epoch 10/64\n",
      "24/24 [==============================] - 0s 11ms/step - loss: 1.4110 - val_loss: 1.4203\n",
      "Epoch 11/64\n",
      "24/24 [==============================] - 0s 11ms/step - loss: 1.3792 - val_loss: 1.3786\n",
      "Epoch 12/64\n",
      "24/24 [==============================] - 0s 12ms/step - loss: 1.3345 - val_loss: 1.3557\n",
      "Epoch 13/64\n",
      "24/24 [==============================] - 0s 11ms/step - loss: 1.2919 - val_loss: 1.3088\n",
      "Epoch 14/64\n",
      "24/24 [==============================] - 0s 10ms/step - loss: 1.2582 - val_loss: 1.2837\n",
      "Epoch 15/64\n",
      "24/24 [==============================] - 0s 10ms/step - loss: 1.2138 - val_loss: 1.2678\n",
      "Epoch 16/64\n",
      "24/24 [==============================] - 0s 12ms/step - loss: 1.1788 - val_loss: 1.2396\n",
      "Epoch 17/64\n",
      "24/24 [==============================] - 0s 10ms/step - loss: 1.1516 - val_loss: 1.1982\n",
      "Epoch 18/64\n",
      "24/24 [==============================] - 0s 10ms/step - loss: 1.1151 - val_loss: 1.2063\n",
      "Epoch 19/64\n",
      "24/24 [==============================] - 0s 10ms/step - loss: 1.0906 - val_loss: 1.1547\n",
      "Epoch 20/64\n",
      "24/24 [==============================] - 0s 12ms/step - loss: 1.0677 - val_loss: 1.1407\n",
      "Epoch 21/64\n",
      "24/24 [==============================] - 0s 11ms/step - loss: 1.0518 - val_loss: 1.1270\n",
      "Epoch 22/64\n",
      "24/24 [==============================] - 0s 10ms/step - loss: 1.0190 - val_loss: 1.0984\n",
      "Epoch 23/64\n",
      "24/24 [==============================] - 0s 10ms/step - loss: 0.9732 - val_loss: 1.0611\n",
      "Epoch 24/64\n",
      "24/24 [==============================] - 0s 11ms/step - loss: 0.9395 - val_loss: 1.0359\n",
      "Epoch 25/64\n",
      "24/24 [==============================] - 0s 10ms/step - loss: 0.9252 - val_loss: 1.0393\n",
      "Epoch 26/64\n",
      "24/24 [==============================] - 0s 10ms/step - loss: 0.8881 - val_loss: 1.0013\n",
      "Epoch 27/64\n",
      "24/24 [==============================] - 0s 10ms/step - loss: 0.8634 - val_loss: 0.9931\n",
      "Epoch 28/64\n",
      "24/24 [==============================] - 0s 12ms/step - loss: 0.8508 - val_loss: 0.9655\n",
      "Epoch 29/64\n",
      "24/24 [==============================] - 0s 10ms/step - loss: 0.8059 - val_loss: 0.9267\n",
      "Epoch 30/64\n",
      "24/24 [==============================] - 0s 10ms/step - loss: 0.7870 - val_loss: 0.9117\n",
      "Epoch 31/64\n",
      "24/24 [==============================] - 0s 10ms/step - loss: 0.7700 - val_loss: 0.9327\n",
      "Epoch 32/64\n",
      "24/24 [==============================] - 0s 12ms/step - loss: 0.7369 - val_loss: 0.8913\n",
      "Epoch 33/64\n",
      "24/24 [==============================] - 0s 10ms/step - loss: 0.6951 - val_loss: 0.8629\n",
      "Epoch 34/64\n",
      "24/24 [==============================] - 0s 10ms/step - loss: 0.6906 - val_loss: 0.8450\n",
      "Epoch 35/64\n",
      "24/24 [==============================] - 0s 10ms/step - loss: 0.6758 - val_loss: 0.8434\n",
      "Epoch 36/64\n",
      "24/24 [==============================] - 0s 12ms/step - loss: 0.6386 - val_loss: 0.8084\n",
      "Epoch 37/64\n",
      "24/24 [==============================] - 0s 10ms/step - loss: 0.6111 - val_loss: 0.7984\n",
      "Epoch 38/64\n",
      "24/24 [==============================] - 0s 10ms/step - loss: 0.6077 - val_loss: 0.7848\n",
      "Epoch 39/64\n",
      "24/24 [==============================] - 0s 10ms/step - loss: 0.5790 - val_loss: 0.7794\n",
      "Epoch 40/64\n",
      "24/24 [==============================] - 0s 12ms/step - loss: 0.5667 - val_loss: 0.7627\n",
      "Epoch 41/64\n",
      "24/24 [==============================] - 0s 10ms/step - loss: 0.5394 - val_loss: 0.7360\n",
      "Epoch 42/64\n",
      "24/24 [==============================] - 0s 10ms/step - loss: 0.5151 - val_loss: 0.7593\n",
      "Epoch 43/64\n",
      "24/24 [==============================] - 0s 10ms/step - loss: 0.5010 - val_loss: 0.7449\n",
      "Epoch 44/64\n",
      "24/24 [==============================] - 0s 12ms/step - loss: 0.4755 - val_loss: 0.7388\n",
      "Epoch 45/64\n",
      "24/24 [==============================] - 0s 10ms/step - loss: 0.4630 - val_loss: 0.6937\n",
      "Epoch 46/64\n",
      "24/24 [==============================] - 0s 10ms/step - loss: 0.4432 - val_loss: 0.7250\n",
      "Epoch 47/64\n",
      "24/24 [==============================] - 0s 10ms/step - loss: 0.4402 - val_loss: 0.6902\n",
      "Epoch 48/64\n",
      "24/24 [==============================] - 0s 12ms/step - loss: 0.4188 - val_loss: 0.6933\n",
      "Epoch 49/64\n",
      "24/24 [==============================] - 0s 10ms/step - loss: 0.4097 - val_loss: 0.6869\n",
      "Epoch 50/64\n",
      "24/24 [==============================] - 0s 10ms/step - loss: 0.3922 - val_loss: 0.6755\n",
      "Epoch 51/64\n",
      "24/24 [==============================] - 0s 10ms/step - loss: 0.3691 - val_loss: 0.6426\n",
      "Epoch 52/64\n",
      "24/24 [==============================] - 0s 12ms/step - loss: 0.3660 - val_loss: 0.6415\n",
      "Epoch 53/64\n",
      "24/24 [==============================] - 0s 10ms/step - loss: 0.3423 - val_loss: 0.6581\n",
      "Epoch 54/64\n",
      "24/24 [==============================] - 0s 10ms/step - loss: 0.3119 - val_loss: 0.6658\n",
      "Epoch 55/64\n",
      "24/24 [==============================] - 0s 11ms/step - loss: 0.3325 - val_loss: 0.6315\n",
      "Epoch 56/64\n",
      "24/24 [==============================] - 0s 11ms/step - loss: 0.2949 - val_loss: 0.6374\n",
      "Epoch 57/64\n",
      "24/24 [==============================] - 0s 10ms/step - loss: 0.3035 - val_loss: 0.6353\n",
      "Epoch 58/64\n",
      "24/24 [==============================] - 0s 10ms/step - loss: 0.2800 - val_loss: 0.6143\n",
      "Epoch 59/64\n",
      "24/24 [==============================] - 0s 12ms/step - loss: 0.2854 - val_loss: 0.6574\n",
      "Epoch 60/64\n",
      "24/24 [==============================] - 0s 10ms/step - loss: 0.2712 - val_loss: 0.6086\n",
      "Epoch 61/64\n",
      "24/24 [==============================] - 0s 10ms/step - loss: 0.2416 - val_loss: 0.6273\n",
      "Epoch 62/64\n",
      "24/24 [==============================] - 0s 10ms/step - loss: 0.2492 - val_loss: 0.6295\n",
      "Epoch 63/64\n",
      "24/24 [==============================] - 0s 12ms/step - loss: 0.2336 - val_loss: 0.6057\n",
      "Epoch 64/64\n",
      "24/24 [==============================] - 0s 10ms/step - loss: 0.2301 - val_loss: 0.6105\n"
     ]
    }
   ],
   "source": [
    "batch_size = 64\n",
    "epochs = 64\n",
    "\n",
    "history = model.fit(\n",
    "\tx_train, y_train,\n",
    "\tbatch_size=batch_size,\n",
    "\tepochs=epochs,\n",
    "\tvalidation_data=(x_valid, y_valid)#,\n",
    "\t#steps_per_epoch=len(x_train) // batch_size # num_samples / batch_size\n",
    ")"
   ]
  },
  {
   "cell_type": "code",
   "execution_count": null,
   "metadata": {},
   "outputs": [],
   "source": [
    "model.save('model.tf') # TF is newer model format than H5"
   ]
  },
  {
   "cell_type": "code",
   "execution_count": 73,
   "metadata": {},
   "outputs": [
    {
     "data": {
      "image/png": "[encoded data removed]",
      "text/plain": [
       "<Figure size 432x288 with 1 Axes>"
      ]
     },
     "metadata": {
      "needs_background": "light"
     },
     "output_type": "display_data"
    }
   ],
   "source": [
    "plt.plot(history.history[\"loss\"])\n",
    "plt.plot(history.history[\"val_loss\"])\n",
    "plt.title(\"Model Loss\")\n",
    "plt.xlabel(\"Epochs\")\n",
    "plt.ylabel(\"Loss\")\n",
    "plt.legend([\"train\", \"validation\"])\n",
    "plt.show()"
   ]
  },
  {
   "cell_type": "code",
   "execution_count": 74,
   "metadata": {},
   "outputs": [
    {
     "name": "stdout",
     "output_type": "stream",
     "text": [
      "12/12 [==============================] - 0s 6ms/step\n"
     ]
    },
    {
     "data": {
      "image/png": "[encoded data removed]",
      "text/plain": [
       "<Figure size 432x288 with 1 Axes>"
      ]
     },
     "metadata": {
      "needs_background": "light"
     },
     "output_type": "display_data"
    }
   ],
   "source": [
    "preds = model.predict(x_valid)\n",
    "preds = np.argmax(preds, axis=1)\n",
    "num_results = 32#len(preds)\n",
    "width = 0.35\n",
    "fig, ax = plt.subplots()\n",
    "x = np.arange(num_results)\n",
    "rects1 = ax.bar(x - width / 2, y_valid[:num_results], width, label='Actual')\n",
    "rects2 = ax.bar(x + width / 2, preds[:num_results], width, label='Predicted')\n",
    "ax.legend()\n",
    "ax.bar_label(rects1, padding=3)\n",
    "ax.bar_label(rects2, padding=3)\n",
    "fig.tight_layout()\n",
    "plt.title(\"Actual vs predicted views\")\n",
    "plt.show()"
   ]
  },
  {
   "cell_type": "code",
   "execution_count": 78,
   "metadata": {},
   "outputs": [
    {
     "name": "stdout",
     "output_type": "stream",
     "text": [
      "1/1 [==============================] - 0s 19ms/step\n"
     ]
    },
    {
     "data": {
      "text/plain": [
       "array([7], dtype=int64)"
      ]
     },
     "execution_count": 78,
     "metadata": {},
     "output_type": "execute_result"
    }
   ],
   "source": [
    "img = loadImage(\"maxresdefault.jpg\")\n",
    "thing1 = np.array([img])\n",
    "thing2 = np.array([9])\n",
    "np.argmax(model.predict([thing1, thing2]), axis=1)"
   ]
  }
 ],
 "metadata": {
  "kernelspec": {
   "display_name": "Python 3.10.4 64-bit",
   "language": "python",
   "name": "python3"
  },
  "language_info": {
   "codemirror_mode": {
    "name": "ipython",
    "version": 3
   },
   "file_extension": ".py",
   "mimetype": "text/x-python",
   "name": "python",
   "nbconvert_exporter": "python",
   "pygments_lexer": "ipython3",
   "version": "3.10.4"
  },
  "orig_nbformat": 4,
  "vscode": {
   "interpreter": {
    "hash": "67759c7270b54abb58d1efb12f2ccfbec46054dee60f7fe60b4bb0322336d082"
   }
  }
 },
 "nbformat": 4,
 "nbformat_minor": 2
}
