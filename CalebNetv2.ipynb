{
 "cells": [
  {
   "cell_type": "code",
   "execution_count": 2,
   "metadata": {},
   "outputs": [],
   "source": [
    "from tensorflow import keras\n",
    "import matplotlib.pyplot as plt\n",
    "from sklearn.model_selection import train_test_split\n",
    "import numpy as np\n",
    "from PIL import Image\n",
    "import os\n",
    "import math"
   ]
  },
  {
   "cell_type": "code",
   "execution_count": 3,
   "metadata": {},
   "outputs": [],
   "source": [
    "# Downscale thumbnails to 360p for training\n",
    "img_size = (168, 94)\n",
    "\n",
    "def loadImage(path):\n",
    "\timg = Image.open(path, 'r').convert('RGB').resize(img_size)\n",
    "\t# Convert colors from 0-255 to 0-1\n",
    "\treturn np.asarray(img) / 255"
   ]
  },
  {
   "cell_type": "code",
   "execution_count": 4,
   "metadata": {},
   "outputs": [
    {
     "data": {
      "text/plain": [
       "1918"
      ]
     },
     "execution_count": 4,
     "metadata": {},
     "output_type": "execute_result"
    }
   ],
   "source": [
    "# AI tries to match target values given source values\n",
    "source = []\n",
    "subs_src = []\n",
    "target = []\n",
    "\n",
    "# Import thumbnails from dataset/ folder\n",
    "for img in os.listdir('dataset'):\n",
    "\tsource.append(loadImage(f'dataset/{img}'))\n",
    "\tviews, subs = img[12:-4].split(\"_\")\n",
    "\tviews_mag = len(views) - 1\n",
    "\ttarget.append(views_mag)\n",
    "\tsubs_mag = (len(views) - 1) / 10 # some dog shit normalisation\n",
    "\tsubs_src.append(subs_mag)\n",
    "\n",
    "# Convert to numpy arrays\n",
    "source = np.array(source)\n",
    "target = np.array(target)\n",
    "subs_src = np.array(subs_src)\n",
    "len(source)"
   ]
  },
  {
   "cell_type": "code",
   "execution_count": 5,
   "metadata": {},
   "outputs": [],
   "source": [
    "# x_train, x_valid, y_train, y_valid = train_test_split(source, subs_src, target, test_size=0.1)\n",
    "# needed a train_test_split that does two things\n",
    "train_to = int(len(source) / 10 * 8)\n",
    "valid_from = train_to\n",
    "valid_to = len(source)\n",
    "\n",
    "x_train_p1 = np.array(source[0: train_to])\n",
    "x_train_p2 = np.array(subs_src[0: train_to])\n",
    "y_train = np.array(target[0: train_to])\n",
    "\n",
    "x_train = [x_train_p1, x_train_p2]\n",
    "\n",
    "x_valid_p1 = np.array(source[valid_from: valid_to])\n",
    "x_valid_p2 = np.array(subs_src[valid_from: valid_to])\n",
    "y_valid = np.array(target[valid_from: valid_to])\n",
    "\n",
    "x_valid = [x_valid_p1, x_valid_p2]"
   ]
  },
  {
   "cell_type": "code",
   "execution_count": 53,
   "metadata": {},
   "outputs": [
    {
     "name": "stdout",
     "output_type": "stream",
     "text": [
      "Model: \"model_16\"\n",
      "__________________________________________________________________________________________________\n",
      " Layer (type)                   Output Shape         Param #     Connected to                     \n",
      "==================================================================================================\n",
      " thumbnail (InputLayer)         [(None, 94, 168, 3)  0           []                               \n",
      "                                ]                                                                 \n",
      "                                                                                                  \n",
      " feat_ext_1 (Conv2D)            (None, 47, 84, 32)   896         ['thumbnail[0][0]']              \n",
      "                                                                                                  \n",
      " pool_1 (MaxPooling2D)          (None, 23, 42, 32)   0           ['feat_ext_1[0][0]']             \n",
      "                                                                                                  \n",
      " feat_ext_2 (Conv2D)            (None, 12, 21, 64)   18496       ['pool_1[0][0]']                 \n",
      "                                                                                                  \n",
      " pool_2 (MaxPooling2D)          (None, 6, 10, 64)    0           ['feat_ext_2[0][0]']             \n",
      "                                                                                                  \n",
      " feat_ext_3 (Conv2D)            (None, 3, 5, 128)    73856       ['pool_2[0][0]']                 \n",
      "                                                                                                  \n",
      " pool_3 (MaxPooling2D)          (None, 1, 2, 128)    0           ['feat_ext_3[0][0]']             \n",
      "                                                                                                  \n",
      " flatten_1 (Flatten)            (None, 256)          0           ['pool_3[0][0]']                 \n",
      "                                                                                                  \n",
      " dropout_0.5 (Dropout)          (None, 256)          0           ['flatten_1[0][0]']              \n",
      "                                                                                                  \n",
      " subs (InputLayer)              [(None, 1)]          0           []                               \n",
      "                                                                                                  \n",
      " thumb_dense (Dense)            (None, 512)          131584      ['dropout_0.5[0][0]']            \n",
      "                                                                                                  \n",
      " sub_expansion (Dense)          (None, 512)          1024        ['subs[0][0]']                   \n",
      "                                                                                                  \n",
      " concat (Concatenate)           (None, 1024)         0           ['thumb_dense[0][0]',            \n",
      "                                                                  'sub_expansion[0][0]']          \n",
      "                                                                                                  \n",
      " concat_dense (Dense)           (None, 512)          524800      ['concat[0][0]']                 \n",
      "                                                                                                  \n",
      " output (Dense)                 (None, 10)           5130        ['concat_dense[0][0]']           \n",
      "                                                                                                  \n",
      "==================================================================================================\n",
      "Total params: 755,786\n",
      "Trainable params: 755,786\n",
      "Non-trainable params: 0\n",
      "__________________________________________________________________________________________________\n"
     ]
    }
   ],
   "source": [
    "i1 = keras.Input(shape=(img_size[1], img_size[0], 3), name=\"thumbnail\")\n",
    "x = keras.layers.Conv2D(filters=32, kernel_size=3, strides=2, padding='Same', activation='relu', name=\"feat_ext_1\")(i1)\n",
    "x = keras.layers.MaxPooling2D(pool_size=2, strides=2, name=\"pool_1\")(x)\n",
    "x = keras.layers.Conv2D(filters=64, kernel_size=3, strides=2, padding='Same', activation='relu', name=\"feat_ext_2\")(x)\n",
    "x = keras.layers.MaxPooling2D(pool_size=2, strides=2, name=\"pool_2\")(x)\n",
    "x = keras.layers.Conv2D(filters=128, kernel_size=3, strides=2, padding='Same', activation='relu', name=\"feat_ext_3\")(x)\n",
    "x = keras.layers.MaxPooling2D(pool_size=2, strides=2, name=\"pool_3\")(x)\n",
    "x = keras.layers.Flatten(name=\"flatten_1\")(x)\n",
    "x = keras.layers.Dropout(0.5, name=\"dropout_0.5\")(x)\n",
    "x = keras.layers.Dense(512, activation='relu', name=\"thumb_dense\")(x)\n",
    "\n",
    "i2 = keras.Input(shape=(1,), name=\"subs\")\n",
    "y = keras.layers.Dense(512, activation='relu', name=\"sub_expansion\")(i2)\n",
    "\n",
    "z = keras.layers.Concatenate(name=\"concat\")([x, y])\n",
    "z = keras.layers.Dense(512, activation='relu', name=\"concat_dense\")(z)\n",
    "\n",
    "output = keras.layers.Dense(10, activation='softmax', name=\"output\")(z)\n",
    "model = keras.Model(inputs=[i1, i2], outputs=output)\n",
    "\n",
    "model.compile(optimizer=keras.optimizers.Adam(learning_rate=0.0001), loss=keras.losses.SparseCategoricalCrossentropy())\n",
    "model.summary()"
   ]
  },
  {
   "cell_type": "code",
   "execution_count": 54,
   "metadata": {},
   "outputs": [
    {
     "name": "stdout",
     "output_type": "stream",
     "text": [
      "Epoch 1/64\n",
      "24/24 [==============================] - 1s 22ms/step - loss: 2.0223 - val_loss: 1.7846\n",
      "Epoch 2/64\n",
      "24/24 [==============================] - 0s 11ms/step - loss: 1.6732 - val_loss: 1.6663\n",
      "Epoch 3/64\n",
      "24/24 [==============================] - 0s 10ms/step - loss: 1.6265 - val_loss: 1.6524\n",
      "Epoch 4/64\n",
      "24/24 [==============================] - 0s 10ms/step - loss: 1.6015 - val_loss: 1.6252\n",
      "Epoch 5/64\n",
      "24/24 [==============================] - 0s 10ms/step - loss: 1.5840 - val_loss: 1.6019\n",
      "Epoch 6/64\n",
      "24/24 [==============================] - 0s 12ms/step - loss: 1.5699 - val_loss: 1.5903\n",
      "Epoch 7/64\n",
      "24/24 [==============================] - 0s 10ms/step - loss: 1.5563 - val_loss: 1.5763\n",
      "Epoch 8/64\n",
      "24/24 [==============================] - 0s 10ms/step - loss: 1.5356 - val_loss: 1.5544\n",
      "Epoch 9/64\n",
      "24/24 [==============================] - 0s 10ms/step - loss: 1.5052 - val_loss: 1.5302\n",
      "Epoch 10/64\n",
      "24/24 [==============================] - 0s 11ms/step - loss: 1.4880 - val_loss: 1.4810\n",
      "Epoch 11/64\n",
      "24/24 [==============================] - 0s 10ms/step - loss: 1.4389 - val_loss: 1.4469\n",
      "Epoch 12/64\n",
      "24/24 [==============================] - 0s 10ms/step - loss: 1.4067 - val_loss: 1.3987\n",
      "Epoch 13/64\n",
      "24/24 [==============================] - 0s 10ms/step - loss: 1.3674 - val_loss: 1.3746\n",
      "Epoch 14/64\n",
      "24/24 [==============================] - 0s 12ms/step - loss: 1.3384 - val_loss: 1.3500\n",
      "Epoch 15/64\n",
      "24/24 [==============================] - 0s 10ms/step - loss: 1.2928 - val_loss: 1.3495\n",
      "Epoch 16/64\n",
      "24/24 [==============================] - 0s 10ms/step - loss: 1.2712 - val_loss: 1.3035\n",
      "Epoch 17/64\n",
      "24/24 [==============================] - 0s 10ms/step - loss: 1.2297 - val_loss: 1.2890\n",
      "Epoch 18/64\n",
      "24/24 [==============================] - 0s 11ms/step - loss: 1.2098 - val_loss: 1.2565\n",
      "Epoch 19/64\n",
      "24/24 [==============================] - 0s 9ms/step - loss: 1.1764 - val_loss: 1.2287\n",
      "Epoch 20/64\n",
      "24/24 [==============================] - 0s 10ms/step - loss: 1.1486 - val_loss: 1.1965\n",
      "Epoch 21/64\n",
      "24/24 [==============================] - 0s 10ms/step - loss: 1.1100 - val_loss: 1.1729\n",
      "Epoch 22/64\n",
      "24/24 [==============================] - 0s 11ms/step - loss: 1.0816 - val_loss: 1.1538\n",
      "Epoch 23/64\n",
      "24/24 [==============================] - 0s 9ms/step - loss: 1.0548 - val_loss: 1.1365\n",
      "Epoch 24/64\n",
      "24/24 [==============================] - 0s 10ms/step - loss: 1.0271 - val_loss: 1.0927\n",
      "Epoch 25/64\n",
      "24/24 [==============================] - 0s 9ms/step - loss: 1.0098 - val_loss: 1.0778\n",
      "Epoch 26/64\n",
      "24/24 [==============================] - 0s 11ms/step - loss: 0.9813 - val_loss: 1.0791\n",
      "Epoch 27/64\n",
      "24/24 [==============================] - 0s 11ms/step - loss: 0.9552 - val_loss: 1.0246\n",
      "Epoch 28/64\n",
      "24/24 [==============================] - 0s 9ms/step - loss: 0.9090 - val_loss: 1.0039\n",
      "Epoch 29/64\n",
      "24/24 [==============================] - 0s 10ms/step - loss: 0.8773 - val_loss: 0.9805\n",
      "Epoch 30/64\n",
      "24/24 [==============================] - 0s 10ms/step - loss: 0.8651 - val_loss: 0.9537\n",
      "Epoch 31/64\n",
      "24/24 [==============================] - 0s 11ms/step - loss: 0.8441 - val_loss: 0.9315\n",
      "Epoch 32/64\n",
      "24/24 [==============================] - 0s 10ms/step - loss: 0.8147 - val_loss: 0.9002\n",
      "Epoch 33/64\n",
      "24/24 [==============================] - 0s 10ms/step - loss: 0.7999 - val_loss: 0.9098\n",
      "Epoch 34/64\n",
      "24/24 [==============================] - 0s 10ms/step - loss: 0.7637 - val_loss: 0.8604\n",
      "Epoch 35/64\n",
      "24/24 [==============================] - 0s 12ms/step - loss: 0.7526 - val_loss: 0.8475\n",
      "Epoch 36/64\n",
      "24/24 [==============================] - 0s 9ms/step - loss: 0.7106 - val_loss: 0.8337\n",
      "Epoch 37/64\n",
      "24/24 [==============================] - 0s 10ms/step - loss: 0.7041 - val_loss: 0.7986\n",
      "Epoch 38/64\n",
      "24/24 [==============================] - 0s 10ms/step - loss: 0.6704 - val_loss: 0.7841\n",
      "Epoch 39/64\n",
      "24/24 [==============================] - 0s 11ms/step - loss: 0.6599 - val_loss: 0.7693\n",
      "Epoch 40/64\n",
      "24/24 [==============================] - 0s 10ms/step - loss: 0.6348 - val_loss: 0.7434\n",
      "Epoch 41/64\n",
      "24/24 [==============================] - 0s 10ms/step - loss: 0.6183 - val_loss: 0.7262\n",
      "Epoch 42/64\n",
      "24/24 [==============================] - 0s 10ms/step - loss: 0.6078 - val_loss: 0.7114\n",
      "Epoch 43/64\n",
      "24/24 [==============================] - 0s 11ms/step - loss: 0.5853 - val_loss: 0.6995\n",
      "Epoch 44/64\n",
      "24/24 [==============================] - 0s 10ms/step - loss: 0.5772 - val_loss: 0.6684\n",
      "Epoch 45/64\n",
      "24/24 [==============================] - 0s 10ms/step - loss: 0.5495 - val_loss: 0.6564\n",
      "Epoch 46/64\n",
      "24/24 [==============================] - 0s 9ms/step - loss: 0.5499 - val_loss: 0.6618\n",
      "Epoch 47/64\n",
      "24/24 [==============================] - 0s 11ms/step - loss: 0.5257 - val_loss: 0.6304\n",
      "Epoch 48/64\n",
      "24/24 [==============================] - 0s 10ms/step - loss: 0.5006 - val_loss: 0.6150\n",
      "Epoch 49/64\n",
      "24/24 [==============================] - 0s 9ms/step - loss: 0.4922 - val_loss: 0.6254\n",
      "Epoch 50/64\n",
      "24/24 [==============================] - 0s 10ms/step - loss: 0.4719 - val_loss: 0.5840\n",
      "Epoch 51/64\n",
      "24/24 [==============================] - 0s 11ms/step - loss: 0.4594 - val_loss: 0.5750\n",
      "Epoch 52/64\n",
      "24/24 [==============================] - 0s 10ms/step - loss: 0.4471 - val_loss: 0.5718\n",
      "Epoch 53/64\n",
      "24/24 [==============================] - 0s 10ms/step - loss: 0.4303 - val_loss: 0.5512\n",
      "Epoch 54/64\n",
      "24/24 [==============================] - 0s 10ms/step - loss: 0.4295 - val_loss: 0.5576\n",
      "Epoch 55/64\n",
      "24/24 [==============================] - 0s 11ms/step - loss: 0.4116 - val_loss: 0.5414\n",
      "Epoch 56/64\n",
      "24/24 [==============================] - 0s 11ms/step - loss: 0.4057 - val_loss: 0.5233\n",
      "Epoch 57/64\n",
      "24/24 [==============================] - 0s 10ms/step - loss: 0.3883 - val_loss: 0.5177\n",
      "Epoch 58/64\n",
      "24/24 [==============================] - 0s 9ms/step - loss: 0.3888 - val_loss: 0.4937\n",
      "Epoch 59/64\n",
      "24/24 [==============================] - 0s 10ms/step - loss: 0.3774 - val_loss: 0.4925\n",
      "Epoch 60/64\n",
      "24/24 [==============================] - 0s 10ms/step - loss: 0.3563 - val_loss: 0.4982\n",
      "Epoch 61/64\n",
      "24/24 [==============================] - 0s 10ms/step - loss: 0.3488 - val_loss: 0.4649\n",
      "Epoch 62/64\n",
      "24/24 [==============================] - 0s 10ms/step - loss: 0.3371 - val_loss: 0.4629\n",
      "Epoch 63/64\n",
      "24/24 [==============================] - 0s 10ms/step - loss: 0.3243 - val_loss: 0.4892\n",
      "Epoch 64/64\n",
      "24/24 [==============================] - 0s 11ms/step - loss: 0.3237 - val_loss: 0.4813\n"
     ]
    }
   ],
   "source": [
    "batch_size = 64\n",
    "epochs = 64\n",
    "\n",
    "history = model.fit(\n",
    "\tx_train, y_train,\n",
    "\tbatch_size=batch_size,\n",
    "\tepochs=epochs,\n",
    "\tvalidation_data=(x_valid, y_valid)#,\n",
    "\t#steps_per_epoch=len(x_train) // batch_size # num_samples / batch_size\n",
    ")"
   ]
  },
  {
   "cell_type": "code",
   "execution_count": 55,
   "metadata": {},
   "outputs": [
    {
     "data": {
      "image/png": "[encoded data removed]",
      "text/plain": [
       "<Figure size 432x288 with 1 Axes>"
      ]
     },
     "metadata": {
      "needs_background": "light"
     },
     "output_type": "display_data"
    }
   ],
   "source": [
    "plt.plot(history.history[\"loss\"])\n",
    "plt.plot(history.history[\"val_loss\"])\n",
    "plt.title(\"Model Loss\")\n",
    "plt.xlabel(\"Epochs\")\n",
    "plt.ylabel(\"Loss\")\n",
    "plt.legend([\"train\", \"validation\"])\n",
    "plt.show()"
   ]
  },
  {
   "cell_type": "code",
   "execution_count": 56,
   "metadata": {},
   "outputs": [
    {
     "name": "stdout",
     "output_type": "stream",
     "text": [
      "12/12 [==============================] - 0s 12ms/step\n"
     ]
    },
    {
     "data": {
      "image/png": "[encoded data removed]",
      "text/plain": [
       "<Figure size 432x288 with 1 Axes>"
      ]
     },
     "metadata": {
      "needs_background": "light"
     },
     "output_type": "display_data"
    }
   ],
   "source": [
    "preds = model.predict(x_valid)\n",
    "preds = np.argmax(preds, axis=1)\n",
    "num_results = 32#len(preds)\n",
    "width = 0.35\n",
    "fig, ax = plt.subplots()\n",
    "x = np.arange(num_results)\n",
    "rects1 = ax.bar(x - width / 2, y_valid[:num_results], width, label='Actual')\n",
    "rects2 = ax.bar(x + width / 2, preds[:num_results], width, label='Predicted')\n",
    "ax.legend()\n",
    "ax.bar_label(rects1, padding=3)\n",
    "ax.bar_label(rects2, padding=3)\n",
    "fig.tight_layout()\n",
    "plt.title(\"Actual vs predicted views\")\n",
    "plt.show()"
   ]
  },
  {
   "cell_type": "code",
   "execution_count": null,
   "metadata": {},
   "outputs": [],
   "source": []
  }
 ],
 "metadata": {
  "kernelspec": {
   "display_name": "Python 3.10.5 64-bit",
   "language": "python",
   "name": "python3"
  },
  "language_info": {
   "codemirror_mode": {
    "name": "ipython",
    "version": 3
   },
   "file_extension": ".py",
   "mimetype": "text/x-python",
   "name": "python",
   "nbconvert_exporter": "python",
   "pygments_lexer": "ipython3",
   "version": "3.10.5"
  },
  "orig_nbformat": 4,
  "vscode": {
   "interpreter": {
    "hash": "88076a93485f247efb60c9d00611d55633c59f1fed461cddd11c3c36f6a72202"
   }
  }
 },
 "nbformat": 4,
 "nbformat_minor": 2
}
